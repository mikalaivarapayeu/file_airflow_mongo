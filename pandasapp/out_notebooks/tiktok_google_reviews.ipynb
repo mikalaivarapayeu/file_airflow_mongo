{
 "cells": [
  {
   "cell_type": "markdown",
   "id": "46eb7886-d19f-46f2-b1f7-2a8f6dc32dc5",
   "metadata": {
    "papermill": {
     "duration": 0.01025,
     "end_time": "2023-10-20T07:53:25.897065",
     "exception": false,
     "start_time": "2023-10-20T07:53:25.886815",
     "status": "completed"
    },
    "tags": []
   },
   "source": [
    "### Install needed libraries"
   ]
  },
  {
   "cell_type": "code",
   "execution_count": 1,
   "id": "66947cbb-5688-43dc-89a4-73183d9be946",
   "metadata": {
    "execution": {
     "iopub.execute_input": "2023-10-20T07:53:25.909834Z",
     "iopub.status.busy": "2023-10-20T07:53:25.909579Z",
     "iopub.status.idle": "2023-10-20T07:53:25.913192Z",
     "shell.execute_reply": "2023-10-20T07:53:25.912719Z"
    },
    "papermill": {
     "duration": 0.009357,
     "end_time": "2023-10-20T07:53:25.914108",
     "exception": false,
     "start_time": "2023-10-20T07:53:25.904751",
     "status": "completed"
    },
    "tags": []
   },
   "outputs": [],
   "source": [
    "#!pip install pymongo"
   ]
  },
  {
   "cell_type": "markdown",
   "id": "13483672-f5d6-4c51-b65c-7921751bf415",
   "metadata": {
    "papermill": {
     "duration": 0.002592,
     "end_time": "2023-10-20T07:53:25.919624",
     "exception": false,
     "start_time": "2023-10-20T07:53:25.917032",
     "status": "completed"
    },
    "tags": []
   },
   "source": [
    "### Import needed libraries"
   ]
  },
  {
   "cell_type": "code",
   "execution_count": 2,
   "id": "bb72433d-a545-4d13-999e-d34c02ce643b",
   "metadata": {
    "execution": {
     "iopub.execute_input": "2023-10-20T07:53:25.925648Z",
     "iopub.status.busy": "2023-10-20T07:53:25.925466Z",
     "iopub.status.idle": "2023-10-20T07:53:26.501550Z",
     "shell.execute_reply": "2023-10-20T07:53:26.501069Z"
    },
    "papermill": {
     "duration": 0.580543,
     "end_time": "2023-10-20T07:53:26.502782",
     "exception": false,
     "start_time": "2023-10-20T07:53:25.922239",
     "status": "completed"
    },
    "tags": []
   },
   "outputs": [],
   "source": [
    "import pandas as pd\n",
    "import numpy as np\n",
    "import matplotlib.pyplot as plt\n",
    "import pymongo\n",
    "import json\n",
    "from datetime import datetime"
   ]
  },
  {
   "cell_type": "markdown",
   "id": "19c045ce-202d-4155-a5be-052bbc49f974",
   "metadata": {
    "papermill": {
     "duration": 0.007602,
     "end_time": "2023-10-20T07:53:26.514058",
     "exception": false,
     "start_time": "2023-10-20T07:53:26.506456",
     "status": "completed"
    },
    "tags": []
   },
   "source": [
    "### Download dataset"
   ]
  },
  {
   "cell_type": "code",
   "execution_count": 3,
   "id": "97180d1d-aae7-45ea-a577-2ec7f313a8d1",
   "metadata": {
    "execution": {
     "iopub.execute_input": "2023-10-20T07:53:26.520396Z",
     "iopub.status.busy": "2023-10-20T07:53:26.520144Z",
     "iopub.status.idle": "2023-10-20T07:53:28.012500Z",
     "shell.execute_reply": "2023-10-20T07:53:28.012047Z"
    },
    "papermill": {
     "duration": 1.496722,
     "end_time": "2023-10-20T07:53:28.013658",
     "exception": false,
     "start_time": "2023-10-20T07:53:26.516936",
     "status": "completed"
    },
    "tags": []
   },
   "outputs": [],
   "source": [
    "# df = pd.read_csv('/home/jovyan/work/in/tiktok_google_play_reviews.csv', sep=',')\n",
    "df = pd.read_csv('/opt/in/tiktok_google_play_reviews.csv', sep=',')"
   ]
  },
  {
   "cell_type": "markdown",
   "id": "607ea674-c127-4927-b7a7-66a652e85029",
   "metadata": {
    "papermill": {
     "duration": 0.003239,
     "end_time": "2023-10-20T07:53:28.019629",
     "exception": false,
     "start_time": "2023-10-20T07:53:28.016390",
     "status": "completed"
    },
    "tags": []
   },
   "source": [
    "## Exploratory Data Analysis"
   ]
  },
  {
   "cell_type": "markdown",
   "id": "eb6abccf-e9d5-4635-b10a-286b990cde63",
   "metadata": {
    "papermill": {
     "duration": 0.002682,
     "end_time": "2023-10-20T07:53:28.025691",
     "exception": false,
     "start_time": "2023-10-20T07:53:28.023009",
     "status": "completed"
    },
    "tags": []
   },
   "source": [
    "### Exploring Data Set"
   ]
  },
  {
   "cell_type": "code",
   "execution_count": 4,
   "id": "ff5347e0-216d-4778-8ef7-d7b6b146c0b8",
   "metadata": {
    "execution": {
     "iopub.execute_input": "2023-10-20T07:53:28.032226Z",
     "iopub.status.busy": "2023-10-20T07:53:28.032042Z",
     "iopub.status.idle": "2023-10-20T07:53:28.044342Z",
     "shell.execute_reply": "2023-10-20T07:53:28.043823Z"
    },
    "papermill": {
     "duration": 0.017771,
     "end_time": "2023-10-20T07:53:28.045981",
     "exception": false,
     "start_time": "2023-10-20T07:53:28.028210",
     "status": "completed"
    },
    "tags": []
   },
   "outputs": [
    {
     "data": {
      "text/html": [
       "<div>\n",
       "<style scoped>\n",
       "    .dataframe tbody tr th:only-of-type {\n",
       "        vertical-align: middle;\n",
       "    }\n",
       "\n",
       "    .dataframe tbody tr th {\n",
       "        vertical-align: top;\n",
       "    }\n",
       "\n",
       "    .dataframe thead th {\n",
       "        text-align: right;\n",
       "    }\n",
       "</style>\n",
       "<table border=\"1\" class=\"dataframe\">\n",
       "  <thead>\n",
       "    <tr style=\"text-align: right;\">\n",
       "      <th></th>\n",
       "      <th>reviewId</th>\n",
       "      <th>userName</th>\n",
       "      <th>userImage</th>\n",
       "      <th>content</th>\n",
       "      <th>score</th>\n",
       "      <th>thumbsUpCount</th>\n",
       "      <th>reviewCreatedVersion</th>\n",
       "      <th>at</th>\n",
       "      <th>replyContent</th>\n",
       "      <th>repliedAt</th>\n",
       "    </tr>\n",
       "  </thead>\n",
       "  <tbody>\n",
       "    <tr>\n",
       "      <th>0</th>\n",
       "      <td>gp:AOqpTOHRz-11c0apHLSKHHp52FxUXsQS9Z88wP3sWc5...</td>\n",
       "      <td>MR LOL GAMER</td>\n",
       "      <td>https://play-lh.googleusercontent.com/a/AATXAJ...</td>\n",
       "      <td>Good</td>\n",
       "      <td>5</td>\n",
       "      <td>0</td>\n",
       "      <td>23.8.4</td>\n",
       "      <td>2022-04-05 23:18:30</td>\n",
       "      <td>NaN</td>\n",
       "      <td>NaN</td>\n",
       "    </tr>\n",
       "    <tr>\n",
       "      <th>1</th>\n",
       "      <td>gp:AOqpTOF6mFDEkIypmyT3shDLjPHg8zB3kdns2W36ahp...</td>\n",
       "      <td>Dino Kljako</td>\n",
       "      <td>https://play-lh.googleusercontent.com/a-/AOh14...</td>\n",
       "      <td>Awesome app! Too many people on it where it's ...</td>\n",
       "      <td>5</td>\n",
       "      <td>0</td>\n",
       "      <td>NaN</td>\n",
       "      <td>2022-04-05 23:18:21</td>\n",
       "      <td>NaN</td>\n",
       "      <td>NaN</td>\n",
       "    </tr>\n",
       "    <tr>\n",
       "      <th>2</th>\n",
       "      <td>gp:AOqpTOGtqU4sb8vuVo3-eB7kIXWoBn-0YCUZ1SnPRKS...</td>\n",
       "      <td>Olivia Harding</td>\n",
       "      <td>https://play-lh.googleusercontent.com/a/AATXAJ...</td>\n",
       "      <td>Not bad</td>\n",
       "      <td>5</td>\n",
       "      <td>0</td>\n",
       "      <td>23.9.5</td>\n",
       "      <td>2022-04-05 23:17:34</td>\n",
       "      <td>NaN</td>\n",
       "      <td>NaN</td>\n",
       "    </tr>\n",
       "    <tr>\n",
       "      <th>3</th>\n",
       "      <td>gp:AOqpTOFHDm-Qa5R6jCpOGTFT2qr1_PKbCTbBNPahCEn...</td>\n",
       "      <td>Keli We</td>\n",
       "      <td>https://play-lh.googleusercontent.com/a-/AOh14...</td>\n",
       "      <td>It is good</td>\n",
       "      <td>2</td>\n",
       "      <td>0</td>\n",
       "      <td>22.2.5</td>\n",
       "      <td>2022-04-05 23:17:04</td>\n",
       "      <td>NaN</td>\n",
       "      <td>NaN</td>\n",
       "    </tr>\n",
       "    <tr>\n",
       "      <th>4</th>\n",
       "      <td>gp:AOqpTOFB6Ndao8IHRpOJRmbSknwMGxHcwYzux93YyXI...</td>\n",
       "      <td>Mavis Kotoka</td>\n",
       "      <td>https://play-lh.googleusercontent.com/a/AATXAJ...</td>\n",
       "      <td>Very interesting app</td>\n",
       "      <td>5</td>\n",
       "      <td>0</td>\n",
       "      <td>22.1.5</td>\n",
       "      <td>2022-04-05 23:17:04</td>\n",
       "      <td>NaN</td>\n",
       "      <td>NaN</td>\n",
       "    </tr>\n",
       "    <tr>\n",
       "      <th>5</th>\n",
       "      <td>gp:AOqpTOGacb4U8fdVlRrwfGQgPVcUR_kMA2Tm97nvKzP...</td>\n",
       "      <td>Laura Gigaud</td>\n",
       "      <td>https://play-lh.googleusercontent.com/a/AATXAJ...</td>\n",
       "      <td>I love This app u can even make good friend an...</td>\n",
       "      <td>5</td>\n",
       "      <td>0</td>\n",
       "      <td>23.9.5</td>\n",
       "      <td>2022-04-05 23:16:34</td>\n",
       "      <td>NaN</td>\n",
       "      <td>NaN</td>\n",
       "    </tr>\n",
       "    <tr>\n",
       "      <th>6</th>\n",
       "      <td>gp:AOqpTOEsoIfvi94iZEXIXnCP0YXKpB5q0hmJxaht3z3...</td>\n",
       "      <td>Adil Adil</td>\n",
       "      <td>https://play-lh.googleusercontent.com/a/AATXAJ...</td>\n",
       "      <td>Pleas for you my video and like All</td>\n",
       "      <td>5</td>\n",
       "      <td>0</td>\n",
       "      <td>23.8.4</td>\n",
       "      <td>2022-04-05 23:15:46</td>\n",
       "      <td>NaN</td>\n",
       "      <td>NaN</td>\n",
       "    </tr>\n",
       "    <tr>\n",
       "      <th>7</th>\n",
       "      <td>gp:AOqpTOFCN3EL7GMDZVfnTtDd2ASdHEkLIc9afGYqFqH...</td>\n",
       "      <td>kennyongefuel</td>\n",
       "      <td>https://play-lh.googleusercontent.com/a-/AOh14...</td>\n",
       "      <td>They suspended my phine for no reason tiktok u...</td>\n",
       "      <td>1</td>\n",
       "      <td>0</td>\n",
       "      <td>23.9.5</td>\n",
       "      <td>2022-04-05 23:15:37</td>\n",
       "      <td>NaN</td>\n",
       "      <td>NaN</td>\n",
       "    </tr>\n",
       "    <tr>\n",
       "      <th>8</th>\n",
       "      <td>gp:AOqpTOFqNTlxGXuxlj26IY2BMkK7nekpro4t-EVz6bw...</td>\n",
       "      <td>Rolen Helin</td>\n",
       "      <td>https://play-lh.googleusercontent.com/a/AATXAJ...</td>\n",
       "      <td>Good</td>\n",
       "      <td>5</td>\n",
       "      <td>0</td>\n",
       "      <td>NaN</td>\n",
       "      <td>2022-04-05 23:15:35</td>\n",
       "      <td>NaN</td>\n",
       "      <td>NaN</td>\n",
       "    </tr>\n",
       "    <tr>\n",
       "      <th>9</th>\n",
       "      <td>gp:AOqpTOGcJsoe5_f-B845gKT6anTyzT8bMKOCaecyMHm...</td>\n",
       "      <td>isaac kamau</td>\n",
       "      <td>https://play-lh.googleusercontent.com/a/AATXAJ...</td>\n",
       "      <td>Good</td>\n",
       "      <td>5</td>\n",
       "      <td>0</td>\n",
       "      <td>NaN</td>\n",
       "      <td>2022-04-05 23:14:52</td>\n",
       "      <td>NaN</td>\n",
       "      <td>NaN</td>\n",
       "    </tr>\n",
       "    <tr>\n",
       "      <th>10</th>\n",
       "      <td>gp:AOqpTOEeICVPggudNya7D1TDf5HV80Q_5yhD26MoZA-...</td>\n",
       "      <td>Diego Hernandez</td>\n",
       "      <td>https://play-lh.googleusercontent.com/a-/AOh14...</td>\n",
       "      <td>Cheeseburger</td>\n",
       "      <td>5</td>\n",
       "      <td>0</td>\n",
       "      <td>23.9.5</td>\n",
       "      <td>2022-04-05 23:14:18</td>\n",
       "      <td>NaN</td>\n",
       "      <td>NaN</td>\n",
       "    </tr>\n",
       "    <tr>\n",
       "      <th>11</th>\n",
       "      <td>gp:AOqpTOFn1uW3rx26KhWQPkVe45xSTB-XYE_2go6tha_...</td>\n",
       "      <td>Ashley Grunwald</td>\n",
       "      <td>https://play-lh.googleusercontent.com/a/AATXAJ...</td>\n",
       "      <td>Hate the sensory but other than that not very ...</td>\n",
       "      <td>5</td>\n",
       "      <td>0</td>\n",
       "      <td>23.8.4</td>\n",
       "      <td>2022-04-05 23:13:00</td>\n",
       "      <td>NaN</td>\n",
       "      <td>NaN</td>\n",
       "    </tr>\n",
       "    <tr>\n",
       "      <th>12</th>\n",
       "      <td>gp:AOqpTOHcNgMmO57DGFP83KmGXEI7CKAYmlJ2GQigpyt...</td>\n",
       "      <td>Adebayo Rokibat</td>\n",
       "      <td>https://play-lh.googleusercontent.com/a/AATXAJ...</td>\n",
       "      <td>Good</td>\n",
       "      <td>4</td>\n",
       "      <td>0</td>\n",
       "      <td>NaN</td>\n",
       "      <td>2022-04-05 23:12:47</td>\n",
       "      <td>NaN</td>\n",
       "      <td>NaN</td>\n",
       "    </tr>\n",
       "    <tr>\n",
       "      <th>13</th>\n",
       "      <td>gp:AOqpTOE9bw8VMxW7fSsCNGW7xi-EQnzPrHRB2wjKDRy...</td>\n",
       "      <td>Atwagala Richards Rogers</td>\n",
       "      <td>https://play-lh.googleusercontent.com/a-/AOh14...</td>\n",
       "      <td>Cool</td>\n",
       "      <td>5</td>\n",
       "      <td>0</td>\n",
       "      <td>23.6.4</td>\n",
       "      <td>2022-04-05 23:11:42</td>\n",
       "      <td>NaN</td>\n",
       "      <td>NaN</td>\n",
       "    </tr>\n",
       "    <tr>\n",
       "      <th>14</th>\n",
       "      <td>gp:AOqpTOHhJdea_WTIn9oNIQHfcWKbqO1QL8vFjyT98ud...</td>\n",
       "      <td>Mchael Biruk</td>\n",
       "      <td>https://play-lh.googleusercontent.com/a-/AOh14...</td>\n",
       "      <td>Great app</td>\n",
       "      <td>5</td>\n",
       "      <td>0</td>\n",
       "      <td>23.6.4</td>\n",
       "      <td>2022-04-05 23:11:15</td>\n",
       "      <td>NaN</td>\n",
       "      <td>NaN</td>\n",
       "    </tr>\n",
       "    <tr>\n",
       "      <th>15</th>\n",
       "      <td>gp:AOqpTOEBXf00HCxh79gSva4qcmkPgtqW3bBESt7wzXn...</td>\n",
       "      <td>1Keshia Baby</td>\n",
       "      <td>https://play-lh.googleusercontent.com/a-/AOh14...</td>\n",
       "      <td>Very Entertaining 😎</td>\n",
       "      <td>5</td>\n",
       "      <td>0</td>\n",
       "      <td>23.8.4</td>\n",
       "      <td>2022-04-05 23:11:02</td>\n",
       "      <td>NaN</td>\n",
       "      <td>NaN</td>\n",
       "    </tr>\n",
       "    <tr>\n",
       "      <th>16</th>\n",
       "      <td>gp:AOqpTOEyLauUkGHM1iUWmMxTUReVbfdmDYl15_Eg_xY...</td>\n",
       "      <td>Official Prank Boss</td>\n",
       "      <td>https://play-lh.googleusercontent.com/a/AATXAJ...</td>\n",
       "      <td>Nc</td>\n",
       "      <td>5</td>\n",
       "      <td>0</td>\n",
       "      <td>NaN</td>\n",
       "      <td>2022-04-05 23:10:58</td>\n",
       "      <td>NaN</td>\n",
       "      <td>NaN</td>\n",
       "    </tr>\n",
       "    <tr>\n",
       "      <th>17</th>\n",
       "      <td>gp:AOqpTOH-_98O_SecapAC0OLptBfIjHJJtpvUA45WBaJ...</td>\n",
       "      <td>Lj Mate</td>\n",
       "      <td>https://play-lh.googleusercontent.com/a/AATXAJ...</td>\n",
       "      <td>(960+40=1000) 🙏🙏🙏🙏Please</td>\n",
       "      <td>5</td>\n",
       "      <td>0</td>\n",
       "      <td>23.8.4</td>\n",
       "      <td>2022-04-05 23:10:13</td>\n",
       "      <td>NaN</td>\n",
       "      <td>NaN</td>\n",
       "    </tr>\n",
       "    <tr>\n",
       "      <th>18</th>\n",
       "      <td>gp:AOqpTOGBWStTL5arbhZhQRbzoeNK9vXfoxdh7PfrNSH...</td>\n",
       "      <td>Mashad Hanan shah</td>\n",
       "      <td>https://play-lh.googleusercontent.com/a-/AOh14...</td>\n",
       "      <td>Dear tik tok team please viral my videos</td>\n",
       "      <td>5</td>\n",
       "      <td>0</td>\n",
       "      <td>23.8.4</td>\n",
       "      <td>2022-04-05 23:10:05</td>\n",
       "      <td>NaN</td>\n",
       "      <td>NaN</td>\n",
       "    </tr>\n",
       "    <tr>\n",
       "      <th>19</th>\n",
       "      <td>gp:AOqpTOHPM5AQWtxtsx0b-rAGS2D3NgqfwqRWyiDfXmM...</td>\n",
       "      <td>Rosaleah Nong</td>\n",
       "      <td>https://play-lh.googleusercontent.com/a/AATXAJ...</td>\n",
       "      <td>Make your day</td>\n",
       "      <td>5</td>\n",
       "      <td>0</td>\n",
       "      <td>NaN</td>\n",
       "      <td>2022-04-05 23:10:04</td>\n",
       "      <td>NaN</td>\n",
       "      <td>NaN</td>\n",
       "    </tr>\n",
       "  </tbody>\n",
       "</table>\n",
       "</div>"
      ],
      "text/plain": [
       "                                             reviewId  \\\n",
       "0   gp:AOqpTOHRz-11c0apHLSKHHp52FxUXsQS9Z88wP3sWc5...   \n",
       "1   gp:AOqpTOF6mFDEkIypmyT3shDLjPHg8zB3kdns2W36ahp...   \n",
       "2   gp:AOqpTOGtqU4sb8vuVo3-eB7kIXWoBn-0YCUZ1SnPRKS...   \n",
       "3   gp:AOqpTOFHDm-Qa5R6jCpOGTFT2qr1_PKbCTbBNPahCEn...   \n",
       "4   gp:AOqpTOFB6Ndao8IHRpOJRmbSknwMGxHcwYzux93YyXI...   \n",
       "5   gp:AOqpTOGacb4U8fdVlRrwfGQgPVcUR_kMA2Tm97nvKzP...   \n",
       "6   gp:AOqpTOEsoIfvi94iZEXIXnCP0YXKpB5q0hmJxaht3z3...   \n",
       "7   gp:AOqpTOFCN3EL7GMDZVfnTtDd2ASdHEkLIc9afGYqFqH...   \n",
       "8   gp:AOqpTOFqNTlxGXuxlj26IY2BMkK7nekpro4t-EVz6bw...   \n",
       "9   gp:AOqpTOGcJsoe5_f-B845gKT6anTyzT8bMKOCaecyMHm...   \n",
       "10  gp:AOqpTOEeICVPggudNya7D1TDf5HV80Q_5yhD26MoZA-...   \n",
       "11  gp:AOqpTOFn1uW3rx26KhWQPkVe45xSTB-XYE_2go6tha_...   \n",
       "12  gp:AOqpTOHcNgMmO57DGFP83KmGXEI7CKAYmlJ2GQigpyt...   \n",
       "13  gp:AOqpTOE9bw8VMxW7fSsCNGW7xi-EQnzPrHRB2wjKDRy...   \n",
       "14  gp:AOqpTOHhJdea_WTIn9oNIQHfcWKbqO1QL8vFjyT98ud...   \n",
       "15  gp:AOqpTOEBXf00HCxh79gSva4qcmkPgtqW3bBESt7wzXn...   \n",
       "16  gp:AOqpTOEyLauUkGHM1iUWmMxTUReVbfdmDYl15_Eg_xY...   \n",
       "17  gp:AOqpTOH-_98O_SecapAC0OLptBfIjHJJtpvUA45WBaJ...   \n",
       "18  gp:AOqpTOGBWStTL5arbhZhQRbzoeNK9vXfoxdh7PfrNSH...   \n",
       "19  gp:AOqpTOHPM5AQWtxtsx0b-rAGS2D3NgqfwqRWyiDfXmM...   \n",
       "\n",
       "                    userName  \\\n",
       "0               MR LOL GAMER   \n",
       "1                Dino Kljako   \n",
       "2             Olivia Harding   \n",
       "3                    Keli We   \n",
       "4               Mavis Kotoka   \n",
       "5               Laura Gigaud   \n",
       "6                  Adil Adil   \n",
       "7              kennyongefuel   \n",
       "8                Rolen Helin   \n",
       "9                isaac kamau   \n",
       "10           Diego Hernandez   \n",
       "11           Ashley Grunwald   \n",
       "12           Adebayo Rokibat   \n",
       "13  Atwagala Richards Rogers   \n",
       "14              Mchael Biruk   \n",
       "15              1Keshia Baby   \n",
       "16       Official Prank Boss   \n",
       "17                   Lj Mate   \n",
       "18         Mashad Hanan shah   \n",
       "19             Rosaleah Nong   \n",
       "\n",
       "                                            userImage  \\\n",
       "0   https://play-lh.googleusercontent.com/a/AATXAJ...   \n",
       "1   https://play-lh.googleusercontent.com/a-/AOh14...   \n",
       "2   https://play-lh.googleusercontent.com/a/AATXAJ...   \n",
       "3   https://play-lh.googleusercontent.com/a-/AOh14...   \n",
       "4   https://play-lh.googleusercontent.com/a/AATXAJ...   \n",
       "5   https://play-lh.googleusercontent.com/a/AATXAJ...   \n",
       "6   https://play-lh.googleusercontent.com/a/AATXAJ...   \n",
       "7   https://play-lh.googleusercontent.com/a-/AOh14...   \n",
       "8   https://play-lh.googleusercontent.com/a/AATXAJ...   \n",
       "9   https://play-lh.googleusercontent.com/a/AATXAJ...   \n",
       "10  https://play-lh.googleusercontent.com/a-/AOh14...   \n",
       "11  https://play-lh.googleusercontent.com/a/AATXAJ...   \n",
       "12  https://play-lh.googleusercontent.com/a/AATXAJ...   \n",
       "13  https://play-lh.googleusercontent.com/a-/AOh14...   \n",
       "14  https://play-lh.googleusercontent.com/a-/AOh14...   \n",
       "15  https://play-lh.googleusercontent.com/a-/AOh14...   \n",
       "16  https://play-lh.googleusercontent.com/a/AATXAJ...   \n",
       "17  https://play-lh.googleusercontent.com/a/AATXAJ...   \n",
       "18  https://play-lh.googleusercontent.com/a-/AOh14...   \n",
       "19  https://play-lh.googleusercontent.com/a/AATXAJ...   \n",
       "\n",
       "                                              content  score  thumbsUpCount  \\\n",
       "0                                                Good      5              0   \n",
       "1   Awesome app! Too many people on it where it's ...      5              0   \n",
       "2                                             Not bad      5              0   \n",
       "3                                          It is good      2              0   \n",
       "4                                Very interesting app      5              0   \n",
       "5   I love This app u can even make good friend an...      5              0   \n",
       "6                 Pleas for you my video and like All      5              0   \n",
       "7   They suspended my phine for no reason tiktok u...      1              0   \n",
       "8                                                Good      5              0   \n",
       "9                                                Good      5              0   \n",
       "10                                       Cheeseburger      5              0   \n",
       "11  Hate the sensory but other than that not very ...      5              0   \n",
       "12                                               Good      4              0   \n",
       "13                                               Cool      5              0   \n",
       "14                                          Great app      5              0   \n",
       "15                                Very Entertaining 😎      5              0   \n",
       "16                                                 Nc      5              0   \n",
       "17                           (960+40=1000) 🙏🙏🙏🙏Please      5              0   \n",
       "18           Dear tik tok team please viral my videos      5              0   \n",
       "19                                      Make your day      5              0   \n",
       "\n",
       "   reviewCreatedVersion                   at replyContent repliedAt  \n",
       "0                23.8.4  2022-04-05 23:18:30          NaN       NaN  \n",
       "1                   NaN  2022-04-05 23:18:21          NaN       NaN  \n",
       "2                23.9.5  2022-04-05 23:17:34          NaN       NaN  \n",
       "3                22.2.5  2022-04-05 23:17:04          NaN       NaN  \n",
       "4                22.1.5  2022-04-05 23:17:04          NaN       NaN  \n",
       "5                23.9.5  2022-04-05 23:16:34          NaN       NaN  \n",
       "6                23.8.4  2022-04-05 23:15:46          NaN       NaN  \n",
       "7                23.9.5  2022-04-05 23:15:37          NaN       NaN  \n",
       "8                   NaN  2022-04-05 23:15:35          NaN       NaN  \n",
       "9                   NaN  2022-04-05 23:14:52          NaN       NaN  \n",
       "10               23.9.5  2022-04-05 23:14:18          NaN       NaN  \n",
       "11               23.8.4  2022-04-05 23:13:00          NaN       NaN  \n",
       "12                  NaN  2022-04-05 23:12:47          NaN       NaN  \n",
       "13               23.6.4  2022-04-05 23:11:42          NaN       NaN  \n",
       "14               23.6.4  2022-04-05 23:11:15          NaN       NaN  \n",
       "15               23.8.4  2022-04-05 23:11:02          NaN       NaN  \n",
       "16                  NaN  2022-04-05 23:10:58          NaN       NaN  \n",
       "17               23.8.4  2022-04-05 23:10:13          NaN       NaN  \n",
       "18               23.8.4  2022-04-05 23:10:05          NaN       NaN  \n",
       "19                  NaN  2022-04-05 23:10:04          NaN       NaN  "
      ]
     },
     "execution_count": 4,
     "metadata": {},
     "output_type": "execute_result"
    }
   ],
   "source": [
    "# First rows of the dataset\n",
    "df.head(20)"
   ]
  },
  {
   "cell_type": "code",
   "execution_count": 5,
   "id": "fba89e98-efe2-4a64-b3fd-6ccbbef07ff6",
   "metadata": {
    "execution": {
     "iopub.execute_input": "2023-10-20T07:53:28.057292Z",
     "iopub.status.busy": "2023-10-20T07:53:28.057063Z",
     "iopub.status.idle": "2023-10-20T07:53:28.060678Z",
     "shell.execute_reply": "2023-10-20T07:53:28.060277Z"
    },
    "papermill": {
     "duration": 0.010749,
     "end_time": "2023-10-20T07:53:28.061639",
     "exception": false,
     "start_time": "2023-10-20T07:53:28.050890",
     "status": "completed"
    },
    "tags": []
   },
   "outputs": [
    {
     "data": {
      "text/plain": [
       "(307057, 10)"
      ]
     },
     "metadata": {},
     "output_type": "display_data"
    }
   ],
   "source": [
    "# Number of rows and columns\n",
    "display(df.shape)"
   ]
  },
  {
   "cell_type": "code",
   "execution_count": 6,
   "id": "4251c743-3dd7-4699-b701-9d4b3f51b33d",
   "metadata": {
    "execution": {
     "iopub.execute_input": "2023-10-20T07:53:28.069364Z",
     "iopub.status.busy": "2023-10-20T07:53:28.068999Z",
     "iopub.status.idle": "2023-10-20T07:53:28.072528Z",
     "shell.execute_reply": "2023-10-20T07:53:28.071987Z"
    },
    "papermill": {
     "duration": 0.008824,
     "end_time": "2023-10-20T07:53:28.073852",
     "exception": false,
     "start_time": "2023-10-20T07:53:28.065028",
     "status": "completed"
    },
    "tags": []
   },
   "outputs": [
    {
     "name": "stdout",
     "output_type": "stream",
     "text": [
      "Index(['reviewId', 'userName', 'userImage', 'content', 'score',\n",
      "       'thumbsUpCount', 'reviewCreatedVersion', 'at', 'replyContent',\n",
      "       'repliedAt'],\n",
      "      dtype='object')\n"
     ]
    }
   ],
   "source": [
    "# Column names\n",
    "print(df.columns)"
   ]
  },
  {
   "cell_type": "code",
   "execution_count": 7,
   "id": "d8b9c401-16e3-476d-ac60-1775faf3ab86",
   "metadata": {
    "execution": {
     "iopub.execute_input": "2023-10-20T07:53:28.081406Z",
     "iopub.status.busy": "2023-10-20T07:53:28.081220Z",
     "iopub.status.idle": "2023-10-20T07:53:28.141256Z",
     "shell.execute_reply": "2023-10-20T07:53:28.140797Z"
    },
    "papermill": {
     "duration": 0.065069,
     "end_time": "2023-10-20T07:53:28.142395",
     "exception": false,
     "start_time": "2023-10-20T07:53:28.077326",
     "status": "completed"
    },
    "tags": []
   },
   "outputs": [
    {
     "name": "stdout",
     "output_type": "stream",
     "text": [
      "<class 'pandas.core.frame.DataFrame'>\n",
      "RangeIndex: 307057 entries, 0 to 307056\n",
      "Data columns (total 10 columns):\n",
      " #   Column                Non-Null Count   Dtype \n",
      "---  ------                --------------   ----- \n",
      " 0   reviewId              307057 non-null  object\n",
      " 1   userName              307057 non-null  object\n",
      " 2   userImage             307057 non-null  object\n",
      " 3   content               307041 non-null  object\n",
      " 4   score                 307057 non-null  int64 \n",
      " 5   thumbsUpCount         307057 non-null  int64 \n",
      " 6   reviewCreatedVersion  217841 non-null  object\n",
      " 7   at                    307057 non-null  object\n",
      " 8   replyContent          119 non-null     object\n",
      " 9   repliedAt             119 non-null     object\n",
      "dtypes: int64(2), object(8)\n",
      "memory usage: 23.4+ MB\n",
      "None\n"
     ]
    }
   ],
   "source": [
    "# Information about the data set\n",
    "print(df.info())"
   ]
  },
  {
   "cell_type": "code",
   "execution_count": 8,
   "id": "b82a5e87-0913-4760-8952-dcbc6a52e176",
   "metadata": {
    "execution": {
     "iopub.execute_input": "2023-10-20T07:53:28.150021Z",
     "iopub.status.busy": "2023-10-20T07:53:28.149853Z",
     "iopub.status.idle": "2023-10-20T07:53:28.166070Z",
     "shell.execute_reply": "2023-10-20T07:53:28.165573Z"
    },
    "papermill": {
     "duration": 0.021366,
     "end_time": "2023-10-20T07:53:28.167179",
     "exception": false,
     "start_time": "2023-10-20T07:53:28.145813",
     "status": "completed"
    },
    "tags": []
   },
   "outputs": [
    {
     "data": {
      "text/html": [
       "<div>\n",
       "<style scoped>\n",
       "    .dataframe tbody tr th:only-of-type {\n",
       "        vertical-align: middle;\n",
       "    }\n",
       "\n",
       "    .dataframe tbody tr th {\n",
       "        vertical-align: top;\n",
       "    }\n",
       "\n",
       "    .dataframe thead th {\n",
       "        text-align: right;\n",
       "    }\n",
       "</style>\n",
       "<table border=\"1\" class=\"dataframe\">\n",
       "  <thead>\n",
       "    <tr style=\"text-align: right;\">\n",
       "      <th></th>\n",
       "      <th>score</th>\n",
       "      <th>thumbsUpCount</th>\n",
       "    </tr>\n",
       "  </thead>\n",
       "  <tbody>\n",
       "    <tr>\n",
       "      <th>count</th>\n",
       "      <td>307057.000000</td>\n",
       "      <td>307057.000000</td>\n",
       "    </tr>\n",
       "    <tr>\n",
       "      <th>mean</th>\n",
       "      <td>4.305966</td>\n",
       "      <td>3.104235</td>\n",
       "    </tr>\n",
       "    <tr>\n",
       "      <th>std</th>\n",
       "      <td>1.374927</td>\n",
       "      <td>101.064320</td>\n",
       "    </tr>\n",
       "    <tr>\n",
       "      <th>min</th>\n",
       "      <td>1.000000</td>\n",
       "      <td>0.000000</td>\n",
       "    </tr>\n",
       "    <tr>\n",
       "      <th>25%</th>\n",
       "      <td>5.000000</td>\n",
       "      <td>0.000000</td>\n",
       "    </tr>\n",
       "    <tr>\n",
       "      <th>50%</th>\n",
       "      <td>5.000000</td>\n",
       "      <td>0.000000</td>\n",
       "    </tr>\n",
       "    <tr>\n",
       "      <th>75%</th>\n",
       "      <td>5.000000</td>\n",
       "      <td>0.000000</td>\n",
       "    </tr>\n",
       "    <tr>\n",
       "      <th>max</th>\n",
       "      <td>5.000000</td>\n",
       "      <td>20102.000000</td>\n",
       "    </tr>\n",
       "  </tbody>\n",
       "</table>\n",
       "</div>"
      ],
      "text/plain": [
       "               score  thumbsUpCount\n",
       "count  307057.000000  307057.000000\n",
       "mean        4.305966       3.104235\n",
       "std         1.374927     101.064320\n",
       "min         1.000000       0.000000\n",
       "25%         5.000000       0.000000\n",
       "50%         5.000000       0.000000\n",
       "75%         5.000000       0.000000\n",
       "max         5.000000   20102.000000"
      ]
     },
     "execution_count": 8,
     "metadata": {},
     "output_type": "execute_result"
    }
   ],
   "source": [
    "# Descirptiove statistic about numeric columns\n",
    "df.describe()"
   ]
  },
  {
   "cell_type": "code",
   "execution_count": 9,
   "id": "efc0b0c7-f6be-4f3b-a148-48568d3f407d",
   "metadata": {
    "execution": {
     "iopub.execute_input": "2023-10-20T07:53:28.175803Z",
     "iopub.status.busy": "2023-10-20T07:53:28.175618Z",
     "iopub.status.idle": "2023-10-20T07:53:28.179955Z",
     "shell.execute_reply": "2023-10-20T07:53:28.179563Z"
    },
    "papermill": {
     "duration": 0.010008,
     "end_time": "2023-10-20T07:53:28.180886",
     "exception": false,
     "start_time": "2023-10-20T07:53:28.170878",
     "status": "completed"
    },
    "tags": []
   },
   "outputs": [
    {
     "data": {
      "text/plain": [
       "array([5, 2, 1, 4, 3])"
      ]
     },
     "execution_count": 9,
     "metadata": {},
     "output_type": "execute_result"
    }
   ],
   "source": [
    "df.score.unique()"
   ]
  },
  {
   "cell_type": "markdown",
   "id": "1ace0621-0045-4182-acc7-b9ea293d23c3",
   "metadata": {
    "papermill": {
     "duration": 0.004059,
     "end_time": "2023-10-20T07:53:28.188465",
     "exception": false,
     "start_time": "2023-10-20T07:53:28.184406",
     "status": "completed"
    },
    "tags": []
   },
   "source": [
    "### Descriptive statistic for numeric columns"
   ]
  },
  {
   "cell_type": "code",
   "execution_count": 10,
   "id": "2182786d-45e9-4b8e-8544-e6b520825082",
   "metadata": {
    "execution": {
     "iopub.execute_input": "2023-10-20T07:53:28.196399Z",
     "iopub.status.busy": "2023-10-20T07:53:28.196180Z",
     "iopub.status.idle": "2023-10-20T07:53:28.280204Z",
     "shell.execute_reply": "2023-10-20T07:53:28.279780Z"
    },
    "papermill": {
     "duration": 0.089135,
     "end_time": "2023-10-20T07:53:28.281197",
     "exception": false,
     "start_time": "2023-10-20T07:53:28.192062",
     "status": "completed"
    },
    "tags": []
   },
   "outputs": [
    {
     "data": {
      "image/png": "[encoded data removed]",
      "text/plain": [
       "<Figure size 640x480 with 1 Axes>"
      ]
     },
     "metadata": {},
     "output_type": "display_data"
    }
   ],
   "source": [
    "# Ploting bar chart for scores\n",
    "df.score.value_counts().sort_values().plot(kind='bar', rot=0)\n",
    "plt.title('Number per a score')\n",
    "plt.show()"
   ]
  },
  {
   "cell_type": "code",
   "execution_count": 11,
   "id": "4825e883-2803-47c6-ad59-369da77cc6bc",
   "metadata": {
    "execution": {
     "iopub.execute_input": "2023-10-20T07:53:28.290512Z",
     "iopub.status.busy": "2023-10-20T07:53:28.290334Z",
     "iopub.status.idle": "2023-10-20T07:53:28.605655Z",
     "shell.execute_reply": "2023-10-20T07:53:28.605125Z"
    },
    "papermill": {
     "duration": 0.32197,
     "end_time": "2023-10-20T07:53:28.606937",
     "exception": false,
     "start_time": "2023-10-20T07:53:28.284967",
     "status": "completed"
    },
    "tags": []
   },
   "outputs": [
    {
     "data": {
      "image/png": "[encoded data removed]",
      "text/plain": [
       "<Figure size 640x480 with 1 Axes>"
      ]
     },
     "metadata": {},
     "output_type": "display_data"
    }
   ],
   "source": [
    "df.thumbsUpCount.plot(kind='hist')\n",
    "plt.yscale('log')\n",
    "plt.title('Number of thumbsUpCount')\n",
    "plt.show()"
   ]
  },
  {
   "cell_type": "markdown",
   "id": "b6de14e9-3c7e-44cc-8832-bf44dd33ba8f",
   "metadata": {
    "papermill": {
     "duration": 0.008117,
     "end_time": "2023-10-20T07:53:28.619290",
     "exception": false,
     "start_time": "2023-10-20T07:53:28.611173",
     "status": "completed"
    },
    "tags": []
   },
   "source": [
    "### Transformation"
   ]
  },
  {
   "cell_type": "code",
   "execution_count": 12,
   "id": "8bb0a57d-90bc-421b-86f3-19b69e0f37f6",
   "metadata": {
    "execution": {
     "iopub.execute_input": "2023-10-20T07:53:28.628443Z",
     "iopub.status.busy": "2023-10-20T07:53:28.628255Z",
     "iopub.status.idle": "2023-10-20T07:53:28.656959Z",
     "shell.execute_reply": "2023-10-20T07:53:28.656026Z"
    },
    "papermill": {
     "duration": 0.034523,
     "end_time": "2023-10-20T07:53:28.658187",
     "exception": false,
     "start_time": "2023-10-20T07:53:28.623664",
     "status": "completed"
    },
    "tags": []
   },
   "outputs": [],
   "source": [
    "# Safe original copy of the dataset\n",
    "s_copy =df.copy()"
   ]
  },
  {
   "cell_type": "code",
   "execution_count": 13,
   "id": "82a76f71-1254-4489-a897-32f85ba3a60b",
   "metadata": {
    "execution": {
     "iopub.execute_input": "2023-10-20T07:53:28.666876Z",
     "iopub.status.busy": "2023-10-20T07:53:28.666691Z",
     "iopub.status.idle": "2023-10-20T07:53:28.850843Z",
     "shell.execute_reply": "2023-10-20T07:53:28.850426Z"
    },
    "papermill": {
     "duration": 0.190077,
     "end_time": "2023-10-20T07:53:28.852221",
     "exception": false,
     "start_time": "2023-10-20T07:53:28.662144",
     "status": "completed"
    },
    "tags": []
   },
   "outputs": [],
   "source": [
    "# replace null values with '-'\n",
    "df.fillna('-', inplace=True)"
   ]
  },
  {
   "cell_type": "code",
   "execution_count": 14,
   "id": "4a2ae4d5-b55c-48ec-89da-b4cb12f3d12d",
   "metadata": {
    "execution": {
     "iopub.execute_input": "2023-10-20T07:53:28.866098Z",
     "iopub.status.busy": "2023-10-20T07:53:28.865895Z",
     "iopub.status.idle": "2023-10-20T07:53:28.972547Z",
     "shell.execute_reply": "2023-10-20T07:53:28.971888Z"
    },
    "papermill": {
     "duration": 0.117668,
     "end_time": "2023-10-20T07:53:28.974559",
     "exception": false,
     "start_time": "2023-10-20T07:53:28.856891",
     "status": "completed"
    },
    "tags": []
   },
   "outputs": [],
   "source": [
    "# Remove all non alphanumeric and punctuation values\n",
    "df['content'] = df['content'].astype(str).apply(lambda x: x.encode('latin-1', 'ignore').decode('latin-1'))"
   ]
  },
  {
   "cell_type": "code",
   "execution_count": 15,
   "id": "8467a7ff-b888-402b-9d8a-8a0c4a8f04f4",
   "metadata": {
    "execution": {
     "iopub.execute_input": "2023-10-20T07:53:28.987861Z",
     "iopub.status.busy": "2023-10-20T07:53:28.987659Z",
     "iopub.status.idle": "2023-10-20T07:53:29.157699Z",
     "shell.execute_reply": "2023-10-20T07:53:29.157184Z"
    },
    "papermill": {
     "duration": 0.180482,
     "end_time": "2023-10-20T07:53:29.158964",
     "exception": false,
     "start_time": "2023-10-20T07:53:28.978482",
     "status": "completed"
    },
    "tags": []
   },
   "outputs": [],
   "source": [
    "# Sort ds by time content was crearted\n",
    "df = df.sort_values(by='at')"
   ]
  },
  {
   "cell_type": "code",
   "execution_count": 16,
   "id": "d40a1a0a-7eb1-4434-ba03-cb4185ec1b28",
   "metadata": {
    "execution": {
     "iopub.execute_input": "2023-10-20T07:53:29.167248Z",
     "iopub.status.busy": "2023-10-20T07:53:29.167058Z",
     "iopub.status.idle": "2023-10-20T07:53:29.272202Z",
     "shell.execute_reply": "2023-10-20T07:53:29.271615Z"
    },
    "papermill": {
     "duration": 0.110934,
     "end_time": "2023-10-20T07:53:29.273585",
     "exception": false,
     "start_time": "2023-10-20T07:53:29.162651",
     "status": "completed"
    },
    "tags": []
   },
   "outputs": [],
   "source": [
    "df = df.rename(columns={'at':'createdAt'})"
   ]
  },
  {
   "cell_type": "markdown",
   "id": "562b0515-6933-47c4-9e14-1a83bf2b1784",
   "metadata": {
    "papermill": {
     "duration": 0.003516,
     "end_time": "2023-10-20T07:53:29.281057",
     "exception": false,
     "start_time": "2023-10-20T07:53:29.277541",
     "status": "completed"
    },
    "tags": []
   },
   "source": [
    "### Copying into MongoDB database"
   ]
  },
  {
   "cell_type": "code",
   "execution_count": 17,
   "id": "041f3c4e-7bdc-4b60-8b07-7ea453baed5c",
   "metadata": {
    "execution": {
     "iopub.execute_input": "2023-10-20T07:53:29.288992Z",
     "iopub.status.busy": "2023-10-20T07:53:29.288759Z",
     "iopub.status.idle": "2023-10-20T07:53:29.297131Z",
     "shell.execute_reply": "2023-10-20T07:53:29.296750Z"
    },
    "papermill": {
     "duration": 0.013813,
     "end_time": "2023-10-20T07:53:29.298170",
     "exception": false,
     "start_time": "2023-10-20T07:53:29.284357",
     "status": "completed"
    },
    "tags": []
   },
   "outputs": [
    {
     "data": {
      "text/html": [
       "<div>\n",
       "<style scoped>\n",
       "    .dataframe tbody tr th:only-of-type {\n",
       "        vertical-align: middle;\n",
       "    }\n",
       "\n",
       "    .dataframe tbody tr th {\n",
       "        vertical-align: top;\n",
       "    }\n",
       "\n",
       "    .dataframe thead th {\n",
       "        text-align: right;\n",
       "    }\n",
       "</style>\n",
       "<table border=\"1\" class=\"dataframe\">\n",
       "  <thead>\n",
       "    <tr style=\"text-align: right;\">\n",
       "      <th></th>\n",
       "      <th>reviewId</th>\n",
       "      <th>userName</th>\n",
       "      <th>userImage</th>\n",
       "      <th>content</th>\n",
       "      <th>score</th>\n",
       "      <th>thumbsUpCount</th>\n",
       "      <th>reviewCreatedVersion</th>\n",
       "      <th>createdAt</th>\n",
       "      <th>replyContent</th>\n",
       "      <th>repliedAt</th>\n",
       "    </tr>\n",
       "  </thead>\n",
       "  <tbody>\n",
       "    <tr>\n",
       "      <th>307056</th>\n",
       "      <td>gp:AOqpTOF_2SyR6RmxASgEiW-4Vw9QRwF4sybqcSdnTlq...</td>\n",
       "      <td>Sumaiya Islam</td>\n",
       "      <td>https://play-lh.googleusercontent.com/a/AATXAJ...</td>\n",
       "      <td>plz sapport my id</td>\n",
       "      <td>5</td>\n",
       "      <td>0</td>\n",
       "      <td>22.7.4</td>\n",
       "      <td>2022-01-17 10:41:51</td>\n",
       "      <td>-</td>\n",
       "      <td>-</td>\n",
       "    </tr>\n",
       "    <tr>\n",
       "      <th>307055</th>\n",
       "      <td>gp:AOqpTOFoaOhvxddyVQPQJHpv9f4kgn2u2kkniAWQTRM...</td>\n",
       "      <td>Asika Emeka</td>\n",
       "      <td>https://play-lh.googleusercontent.com/a/AATXAJ...</td>\n",
       "      <td>Nice app</td>\n",
       "      <td>5</td>\n",
       "      <td>0</td>\n",
       "      <td>-</td>\n",
       "      <td>2022-01-17 10:42:27</td>\n",
       "      <td>-</td>\n",
       "      <td>-</td>\n",
       "    </tr>\n",
       "    <tr>\n",
       "      <th>307054</th>\n",
       "      <td>gp:AOqpTOEuzjdo0NhbqpSBB18hhKP8X6FNPDOWVsan_TA...</td>\n",
       "      <td>ntokozo zondi</td>\n",
       "      <td>https://play-lh.googleusercontent.com/a/AATXAJ...</td>\n",
       "      <td>The videos are amazing...such an amazing app</td>\n",
       "      <td>5</td>\n",
       "      <td>0</td>\n",
       "      <td>22.8.4</td>\n",
       "      <td>2022-01-17 10:43:06</td>\n",
       "      <td>-</td>\n",
       "      <td>-</td>\n",
       "    </tr>\n",
       "    <tr>\n",
       "      <th>307053</th>\n",
       "      <td>gp:AOqpTOHnBTSFCqxFYSsNrg4vztYn-Z0Gg3aCIGLliRK...</td>\n",
       "      <td>Shalina Sayed</td>\n",
       "      <td>https://play-lh.googleusercontent.com/a/AATXAJ...</td>\n",
       "      <td>I LOVE TIKTOK</td>\n",
       "      <td>5</td>\n",
       "      <td>0</td>\n",
       "      <td>22.8.4</td>\n",
       "      <td>2022-01-17 10:44:31</td>\n",
       "      <td>-</td>\n",
       "      <td>-</td>\n",
       "    </tr>\n",
       "    <tr>\n",
       "      <th>307052</th>\n",
       "      <td>gp:AOqpTOEX2qzcEhnamYxu8Jrnu4Ia0UtuHkajx6I1Y_j...</td>\n",
       "      <td>Nze Alpeace</td>\n",
       "      <td>https://play-lh.googleusercontent.com/a/AATXAJ...</td>\n",
       "      <td>Best app ever let's do it ,very awesome let ev...</td>\n",
       "      <td>5</td>\n",
       "      <td>0</td>\n",
       "      <td>22.6.5</td>\n",
       "      <td>2022-01-17 10:44:38</td>\n",
       "      <td>-</td>\n",
       "      <td>-</td>\n",
       "    </tr>\n",
       "    <tr>\n",
       "      <th>...</th>\n",
       "      <td>...</td>\n",
       "      <td>...</td>\n",
       "      <td>...</td>\n",
       "      <td>...</td>\n",
       "      <td>...</td>\n",
       "      <td>...</td>\n",
       "      <td>...</td>\n",
       "      <td>...</td>\n",
       "      <td>...</td>\n",
       "      <td>...</td>\n",
       "    </tr>\n",
       "    <tr>\n",
       "      <th>4</th>\n",
       "      <td>gp:AOqpTOFB6Ndao8IHRpOJRmbSknwMGxHcwYzux93YyXI...</td>\n",
       "      <td>Mavis Kotoka</td>\n",
       "      <td>https://play-lh.googleusercontent.com/a/AATXAJ...</td>\n",
       "      <td>Very interesting app</td>\n",
       "      <td>5</td>\n",
       "      <td>0</td>\n",
       "      <td>22.1.5</td>\n",
       "      <td>2022-04-05 23:17:04</td>\n",
       "      <td>-</td>\n",
       "      <td>-</td>\n",
       "    </tr>\n",
       "    <tr>\n",
       "      <th>3</th>\n",
       "      <td>gp:AOqpTOFHDm-Qa5R6jCpOGTFT2qr1_PKbCTbBNPahCEn...</td>\n",
       "      <td>Keli We</td>\n",
       "      <td>https://play-lh.googleusercontent.com/a-/AOh14...</td>\n",
       "      <td>It is good</td>\n",
       "      <td>2</td>\n",
       "      <td>0</td>\n",
       "      <td>22.2.5</td>\n",
       "      <td>2022-04-05 23:17:04</td>\n",
       "      <td>-</td>\n",
       "      <td>-</td>\n",
       "    </tr>\n",
       "    <tr>\n",
       "      <th>2</th>\n",
       "      <td>gp:AOqpTOGtqU4sb8vuVo3-eB7kIXWoBn-0YCUZ1SnPRKS...</td>\n",
       "      <td>Olivia Harding</td>\n",
       "      <td>https://play-lh.googleusercontent.com/a/AATXAJ...</td>\n",
       "      <td>Not bad</td>\n",
       "      <td>5</td>\n",
       "      <td>0</td>\n",
       "      <td>23.9.5</td>\n",
       "      <td>2022-04-05 23:17:34</td>\n",
       "      <td>-</td>\n",
       "      <td>-</td>\n",
       "    </tr>\n",
       "    <tr>\n",
       "      <th>1</th>\n",
       "      <td>gp:AOqpTOF6mFDEkIypmyT3shDLjPHg8zB3kdns2W36ahp...</td>\n",
       "      <td>Dino Kljako</td>\n",
       "      <td>https://play-lh.googleusercontent.com/a-/AOh14...</td>\n",
       "      <td>Awesome app! Too many people on it where it's ...</td>\n",
       "      <td>5</td>\n",
       "      <td>0</td>\n",
       "      <td>-</td>\n",
       "      <td>2022-04-05 23:18:21</td>\n",
       "      <td>-</td>\n",
       "      <td>-</td>\n",
       "    </tr>\n",
       "    <tr>\n",
       "      <th>0</th>\n",
       "      <td>gp:AOqpTOHRz-11c0apHLSKHHp52FxUXsQS9Z88wP3sWc5...</td>\n",
       "      <td>MR LOL GAMER</td>\n",
       "      <td>https://play-lh.googleusercontent.com/a/AATXAJ...</td>\n",
       "      <td>Good</td>\n",
       "      <td>5</td>\n",
       "      <td>0</td>\n",
       "      <td>23.8.4</td>\n",
       "      <td>2022-04-05 23:18:30</td>\n",
       "      <td>-</td>\n",
       "      <td>-</td>\n",
       "    </tr>\n",
       "  </tbody>\n",
       "</table>\n",
       "<p>307057 rows × 10 columns</p>\n",
       "</div>"
      ],
      "text/plain": [
       "                                                 reviewId        userName  \\\n",
       "307056  gp:AOqpTOF_2SyR6RmxASgEiW-4Vw9QRwF4sybqcSdnTlq...   Sumaiya Islam   \n",
       "307055  gp:AOqpTOFoaOhvxddyVQPQJHpv9f4kgn2u2kkniAWQTRM...     Asika Emeka   \n",
       "307054  gp:AOqpTOEuzjdo0NhbqpSBB18hhKP8X6FNPDOWVsan_TA...   ntokozo zondi   \n",
       "307053  gp:AOqpTOHnBTSFCqxFYSsNrg4vztYn-Z0Gg3aCIGLliRK...   Shalina Sayed   \n",
       "307052  gp:AOqpTOEX2qzcEhnamYxu8Jrnu4Ia0UtuHkajx6I1Y_j...     Nze Alpeace   \n",
       "...                                                   ...             ...   \n",
       "4       gp:AOqpTOFB6Ndao8IHRpOJRmbSknwMGxHcwYzux93YyXI...    Mavis Kotoka   \n",
       "3       gp:AOqpTOFHDm-Qa5R6jCpOGTFT2qr1_PKbCTbBNPahCEn...         Keli We   \n",
       "2       gp:AOqpTOGtqU4sb8vuVo3-eB7kIXWoBn-0YCUZ1SnPRKS...  Olivia Harding   \n",
       "1       gp:AOqpTOF6mFDEkIypmyT3shDLjPHg8zB3kdns2W36ahp...     Dino Kljako   \n",
       "0       gp:AOqpTOHRz-11c0apHLSKHHp52FxUXsQS9Z88wP3sWc5...    MR LOL GAMER   \n",
       "\n",
       "                                                userImage  \\\n",
       "307056  https://play-lh.googleusercontent.com/a/AATXAJ...   \n",
       "307055  https://play-lh.googleusercontent.com/a/AATXAJ...   \n",
       "307054  https://play-lh.googleusercontent.com/a/AATXAJ...   \n",
       "307053  https://play-lh.googleusercontent.com/a/AATXAJ...   \n",
       "307052  https://play-lh.googleusercontent.com/a/AATXAJ...   \n",
       "...                                                   ...   \n",
       "4       https://play-lh.googleusercontent.com/a/AATXAJ...   \n",
       "3       https://play-lh.googleusercontent.com/a-/AOh14...   \n",
       "2       https://play-lh.googleusercontent.com/a/AATXAJ...   \n",
       "1       https://play-lh.googleusercontent.com/a-/AOh14...   \n",
       "0       https://play-lh.googleusercontent.com/a/AATXAJ...   \n",
       "\n",
       "                                                  content  score  \\\n",
       "307056                                  plz sapport my id      5   \n",
       "307055                                           Nice app      5   \n",
       "307054       The videos are amazing...such an amazing app      5   \n",
       "307053                                      I LOVE TIKTOK      5   \n",
       "307052  Best app ever let's do it ,very awesome let ev...      5   \n",
       "...                                                   ...    ...   \n",
       "4                                    Very interesting app      5   \n",
       "3                                              It is good      2   \n",
       "2                                                 Not bad      5   \n",
       "1       Awesome app! Too many people on it where it's ...      5   \n",
       "0                                                    Good      5   \n",
       "\n",
       "        thumbsUpCount reviewCreatedVersion            createdAt replyContent  \\\n",
       "307056              0               22.7.4  2022-01-17 10:41:51            -   \n",
       "307055              0                    -  2022-01-17 10:42:27            -   \n",
       "307054              0               22.8.4  2022-01-17 10:43:06            -   \n",
       "307053              0               22.8.4  2022-01-17 10:44:31            -   \n",
       "307052              0               22.6.5  2022-01-17 10:44:38            -   \n",
       "...               ...                  ...                  ...          ...   \n",
       "4                   0               22.1.5  2022-04-05 23:17:04            -   \n",
       "3                   0               22.2.5  2022-04-05 23:17:04            -   \n",
       "2                   0               23.9.5  2022-04-05 23:17:34            -   \n",
       "1                   0                    -  2022-04-05 23:18:21            -   \n",
       "0                   0               23.8.4  2022-04-05 23:18:30            -   \n",
       "\n",
       "       repliedAt  \n",
       "307056         -  \n",
       "307055         -  \n",
       "307054         -  \n",
       "307053         -  \n",
       "307052         -  \n",
       "...          ...  \n",
       "4              -  \n",
       "3              -  \n",
       "2              -  \n",
       "1              -  \n",
       "0              -  \n",
       "\n",
       "[307057 rows x 10 columns]"
      ]
     },
     "execution_count": 17,
     "metadata": {},
     "output_type": "execute_result"
    }
   ],
   "source": [
    "df"
   ]
  },
  {
   "cell_type": "code",
   "execution_count": 18,
   "id": "c596a6f6-240d-4c20-9a1b-a30f46c0f64a",
   "metadata": {
    "execution": {
     "iopub.execute_input": "2023-10-20T07:53:29.307476Z",
     "iopub.status.busy": "2023-10-20T07:53:29.307287Z",
     "iopub.status.idle": "2023-10-20T07:53:29.886853Z",
     "shell.execute_reply": "2023-10-20T07:53:29.886305Z"
    },
    "papermill": {
     "duration": 0.585895,
     "end_time": "2023-10-20T07:53:29.888151",
     "exception": false,
     "start_time": "2023-10-20T07:53:29.302256",
     "status": "completed"
    },
    "tags": []
   },
   "outputs": [],
   "source": [
    "dt_string = datetime.now().strftime(\"%d_%m_%Y_%H_%M\")\n",
    "df.T.to_json(f\"/opt/out/output.json\")"
   ]
  },
  {
   "cell_type": "code",
   "execution_count": 19,
   "id": "d9198f4e-d948-4367-b319-ecb7b0d5227b",
   "metadata": {
    "execution": {
     "iopub.execute_input": "2023-10-20T07:53:29.901621Z",
     "iopub.status.busy": "2023-10-20T07:53:29.901401Z",
     "iopub.status.idle": "2023-10-20T07:53:29.903930Z",
     "shell.execute_reply": "2023-10-20T07:53:29.903476Z"
    },
    "papermill": {
     "duration": 0.012396,
     "end_time": "2023-10-20T07:53:29.904898",
     "exception": false,
     "start_time": "2023-10-20T07:53:29.892502",
     "status": "completed"
    },
    "scrolled": true,
    "tags": []
   },
   "outputs": [],
   "source": [
    "# df_json = pd.read_json('/home/jovyan/work/out/test.json', lines=True)\n",
    "# df_json = pd.read_json('/opt/out/test.json', lines=True)\n",
    "# df_json"
   ]
  }
 ],
 "metadata": {
  "kernelspec": {
   "display_name": "Python 3 (ipykernel)",
   "language": "python",
   "name": "python3"
  },
  "language_info": {
   "codemirror_mode": {
    "name": "ipython",
    "version": 3
   },
   "file_extension": ".py",
   "mimetype": "text/x-python",
   "name": "python",
   "nbconvert_exporter": "python",
   "pygments_lexer": "ipython3",
   "version": "3.10.13"
  },
  "papermill": {
   "default_parameters": {},
   "duration": 5.396762,
   "end_time": "2023-10-20T07:53:30.327389",
   "environment_variables": {},
   "exception": null,
   "input_path": "/opt/pandasapp/in_notebooks/tiktok_google_reviews.ipynb",
   "output_path": "/opt/pandasapp/out_notebooks/tiktok_google_reviews.ipynb",
   "parameters": {},
   "start_time": "2023-10-20T07:53:24.930627",
   "version": "2.4.0"
  }
 },
 "nbformat": 4,
 "nbformat_minor": 5
}